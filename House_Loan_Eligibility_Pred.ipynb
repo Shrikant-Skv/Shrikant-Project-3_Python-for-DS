{
 "cells": [
  {
   "cell_type": "markdown",
   "id": "600a97c5-dce4-4bc7-81a6-6bd3bda393d8",
   "metadata": {},
   "source": [
    "# House Loan Eligibility Prediction\n",
    "\n",
    "\n",
    "### Domain:\n",
    " - Finance and Banking.\n",
    " \n",
    "### Context:\n",
    "Dream Housing Finance company deals in all home loans. They have presence across all urban, semi urban and rural areas. Customers first apply for a home loan after that company manually validates the customer eligibility for loan. \n",
    "Company wants to automate the loan eligibility process based on customer detail provided while filling the details online. \n",
    "They need a web application where a user can access their website and register, login, and enter the required details such as Gender, Marital Status, Education, Number of Dependents, Income, Loan Amount, Credit History and others for checking the eligibility for the home loan.\n",
    "    \n",
    "\n",
    "### Project Objective:\n",
    "1) This is a standard supervised classification task. A classification problem where we have to predict whether a customer is eligible for loan or not based on a given set of independent variable(s).\n",
    "\n",
    "2) To build a Python Flask ML application where a user has to get registered by entering the username and password and login to the website and then enter their details to check whether they are eligible for loan or not.\n",
    "\n",
    "\n",
    "### Dataset Description:\n",
    "Dataset can be found here: https://www.kaggle.com/datasets/ssiddharth408/loan-prediction-dataset\n",
    "\n",
    "1. **Loan ID**: Unique Loan ID\n",
    "2. **Gender**: Male or Female\n",
    "3. **Married**: Applicant married (Y/N)\n",
    "4. **Dependents**: Number of dependents\n",
    "5. **Self employed**: Self employed (Y/N)\n",
    "6. **Education**: Graduate/Undergraduate\n",
    "7. **Applicant Income**: Applicant income (in dollars)\n",
    "8. **Co Applicant Income**: Co Applicant Income (in dollars)\n",
    "9. **Loan Amount**: Loan amount in thousands (in dollars)\n",
    "10. **Loan Amount Term**: Term of loan in months\n",
    "11. **Credit History**: Credit history meets guidelines Yes/No(1/0)\n",
    "12. **Property area**: Urban/Semi Urban/Rural\n",
    "13. **Loan Status (Target)**: Loan Approved (Y/N)"
   ]
  },
  {
   "cell_type": "markdown",
   "id": "22a1d5b4",
   "metadata": {},
   "source": [
    "### Model Building and saving the model using Pickle"
   ]
  },
  {
   "cell_type": "markdown",
   "id": "02a07d22",
   "metadata": {},
   "source": [
    "#### 1. Import required libraries and read the dataset."
   ]
  },
  {
   "cell_type": "code",
   "execution_count": 1,
   "id": "182056f1",
   "metadata": {},
   "outputs": [],
   "source": [
    "import numpy as np \n",
    "import pandas as pd \n",
    "import seaborn as sns\n",
    "import matplotlib.pyplot as plt\n",
    "import warnings\n",
    "warnings.filterwarnings('ignore')\n",
    "\n",
    "import sklearn\n",
    "from sklearn import metrics\n",
    "from sklearn.model_selection import train_test_split\n",
    "from sklearn.preprocessing import StandardScaler\n",
    "from sklearn.linear_model import LogisticRegression\n",
    "from sklearn.metrics import accuracy_score, classification_report\n",
    "from sklearn.preprocessing import LabelEncoder\n",
    "from sklearn.neighbors import KNeighborsClassifier\n",
    "from sklearn.naive_bayes import GaussianNB\n",
    "from sklearn.ensemble import RandomForestClassifier\n",
    "from sklearn.ensemble import StackingClassifier\n",
    "from sklearn.ensemble import AdaBoostClassifier, GradientBoostingClassifier\n",
    "from sklearn.tree import DecisionTreeClassifier"
   ]
  },
  {
   "cell_type": "code",
   "execution_count": 2,
   "id": "c7af5a2a",
   "metadata": {},
   "outputs": [
    {
     "data": {
      "text/html": [
       "<div>\n",
       "<style scoped>\n",
       "    .dataframe tbody tr th:only-of-type {\n",
       "        vertical-align: middle;\n",
       "    }\n",
       "\n",
       "    .dataframe tbody tr th {\n",
       "        vertical-align: top;\n",
       "    }\n",
       "\n",
       "    .dataframe thead th {\n",
       "        text-align: right;\n",
       "    }\n",
       "</style>\n",
       "<table border=\"1\" class=\"dataframe\">\n",
       "  <thead>\n",
       "    <tr style=\"text-align: right;\">\n",
       "      <th></th>\n",
       "      <th>loan_id</th>\n",
       "      <th>gender</th>\n",
       "      <th>married</th>\n",
       "      <th>dependents</th>\n",
       "      <th>education</th>\n",
       "      <th>self_employed</th>\n",
       "      <th>applicantincome</th>\n",
       "      <th>coapplicantincome</th>\n",
       "      <th>loanamount</th>\n",
       "      <th>loan_amount_term</th>\n",
       "      <th>credit_history</th>\n",
       "      <th>property_area</th>\n",
       "      <th>loan_status</th>\n",
       "    </tr>\n",
       "  </thead>\n",
       "  <tbody>\n",
       "    <tr>\n",
       "      <th>0</th>\n",
       "      <td>lp001002</td>\n",
       "      <td>male</td>\n",
       "      <td>no</td>\n",
       "      <td>0.0</td>\n",
       "      <td>graduate</td>\n",
       "      <td>no</td>\n",
       "      <td>5849</td>\n",
       "      <td>0.0</td>\n",
       "      <td>NaN</td>\n",
       "      <td>360.0</td>\n",
       "      <td>1.0</td>\n",
       "      <td>urban</td>\n",
       "      <td>y</td>\n",
       "    </tr>\n",
       "    <tr>\n",
       "      <th>1</th>\n",
       "      <td>lp001003</td>\n",
       "      <td>male</td>\n",
       "      <td>yes</td>\n",
       "      <td>1.0</td>\n",
       "      <td>graduate</td>\n",
       "      <td>no</td>\n",
       "      <td>4583</td>\n",
       "      <td>1508.0</td>\n",
       "      <td>128.0</td>\n",
       "      <td>360.0</td>\n",
       "      <td>1.0</td>\n",
       "      <td>rural</td>\n",
       "      <td>n</td>\n",
       "    </tr>\n",
       "    <tr>\n",
       "      <th>2</th>\n",
       "      <td>lp001005</td>\n",
       "      <td>male</td>\n",
       "      <td>yes</td>\n",
       "      <td>0.0</td>\n",
       "      <td>graduate</td>\n",
       "      <td>yes</td>\n",
       "      <td>3000</td>\n",
       "      <td>0.0</td>\n",
       "      <td>66.0</td>\n",
       "      <td>360.0</td>\n",
       "      <td>1.0</td>\n",
       "      <td>urban</td>\n",
       "      <td>y</td>\n",
       "    </tr>\n",
       "    <tr>\n",
       "      <th>3</th>\n",
       "      <td>lp001006</td>\n",
       "      <td>male</td>\n",
       "      <td>yes</td>\n",
       "      <td>0.0</td>\n",
       "      <td>not graduate</td>\n",
       "      <td>no</td>\n",
       "      <td>2583</td>\n",
       "      <td>2358.0</td>\n",
       "      <td>120.0</td>\n",
       "      <td>360.0</td>\n",
       "      <td>1.0</td>\n",
       "      <td>urban</td>\n",
       "      <td>y</td>\n",
       "    </tr>\n",
       "    <tr>\n",
       "      <th>4</th>\n",
       "      <td>lp001008</td>\n",
       "      <td>male</td>\n",
       "      <td>no</td>\n",
       "      <td>0.0</td>\n",
       "      <td>graduate</td>\n",
       "      <td>no</td>\n",
       "      <td>6000</td>\n",
       "      <td>0.0</td>\n",
       "      <td>141.0</td>\n",
       "      <td>360.0</td>\n",
       "      <td>1.0</td>\n",
       "      <td>urban</td>\n",
       "      <td>y</td>\n",
       "    </tr>\n",
       "  </tbody>\n",
       "</table>\n",
       "</div>"
      ],
      "text/plain": [
       "    loan_id gender married  dependents     education self_employed  \\\n",
       "0  lp001002   male      no         0.0      graduate            no   \n",
       "1  lp001003   male     yes         1.0      graduate            no   \n",
       "2  lp001005   male     yes         0.0      graduate           yes   \n",
       "3  lp001006   male     yes         0.0  not graduate            no   \n",
       "4  lp001008   male      no         0.0      graduate            no   \n",
       "\n",
       "   applicantincome  coapplicantincome  loanamount  loan_amount_term  \\\n",
       "0             5849                0.0         NaN             360.0   \n",
       "1             4583             1508.0       128.0             360.0   \n",
       "2             3000                0.0        66.0             360.0   \n",
       "3             2583             2358.0       120.0             360.0   \n",
       "4             6000                0.0       141.0             360.0   \n",
       "\n",
       "   credit_history property_area loan_status  \n",
       "0             1.0         urban           y  \n",
       "1             1.0         rural           n  \n",
       "2             1.0         urban           y  \n",
       "3             1.0         urban           y  \n",
       "4             1.0         urban           y  "
      ]
     },
     "execution_count": 2,
     "metadata": {},
     "output_type": "execute_result"
    }
   ],
   "source": [
    "# Reading the dataset:\n",
    "df = pd.read_csv('loan_approval_data.csv')\n",
    "df.head()"
   ]
  },
  {
   "cell_type": "markdown",
   "id": "765604b5",
   "metadata": {},
   "source": [
    "#### 2. Check the first few samples, shape, info of the data and try to familiarize yourself with different features."
   ]
  },
  {
   "cell_type": "code",
   "execution_count": 3,
   "id": "5cfdfc4d",
   "metadata": {},
   "outputs": [
    {
     "data": {
      "text/html": [
       "<div>\n",
       "<style scoped>\n",
       "    .dataframe tbody tr th:only-of-type {\n",
       "        vertical-align: middle;\n",
       "    }\n",
       "\n",
       "    .dataframe tbody tr th {\n",
       "        vertical-align: top;\n",
       "    }\n",
       "\n",
       "    .dataframe thead th {\n",
       "        text-align: right;\n",
       "    }\n",
       "</style>\n",
       "<table border=\"1\" class=\"dataframe\">\n",
       "  <thead>\n",
       "    <tr style=\"text-align: right;\">\n",
       "      <th></th>\n",
       "      <th>loan_id</th>\n",
       "      <th>gender</th>\n",
       "      <th>married</th>\n",
       "      <th>dependents</th>\n",
       "      <th>education</th>\n",
       "      <th>self_employed</th>\n",
       "      <th>applicantincome</th>\n",
       "      <th>coapplicantincome</th>\n",
       "      <th>loanamount</th>\n",
       "      <th>loan_amount_term</th>\n",
       "      <th>credit_history</th>\n",
       "      <th>property_area</th>\n",
       "      <th>loan_status</th>\n",
       "    </tr>\n",
       "  </thead>\n",
       "  <tbody>\n",
       "    <tr>\n",
       "      <th>1</th>\n",
       "      <td>lp001003</td>\n",
       "      <td>male</td>\n",
       "      <td>yes</td>\n",
       "      <td>1.0</td>\n",
       "      <td>graduate</td>\n",
       "      <td>no</td>\n",
       "      <td>4583</td>\n",
       "      <td>1508.0</td>\n",
       "      <td>128.0</td>\n",
       "      <td>360.0</td>\n",
       "      <td>1.0</td>\n",
       "      <td>rural</td>\n",
       "      <td>n</td>\n",
       "    </tr>\n",
       "    <tr>\n",
       "      <th>584</th>\n",
       "      <td>lp002911</td>\n",
       "      <td>male</td>\n",
       "      <td>yes</td>\n",
       "      <td>1.0</td>\n",
       "      <td>graduate</td>\n",
       "      <td>no</td>\n",
       "      <td>2787</td>\n",
       "      <td>1917.0</td>\n",
       "      <td>146.0</td>\n",
       "      <td>360.0</td>\n",
       "      <td>0.0</td>\n",
       "      <td>rural</td>\n",
       "      <td>n</td>\n",
       "    </tr>\n",
       "    <tr>\n",
       "      <th>238</th>\n",
       "      <td>lp001790</td>\n",
       "      <td>female</td>\n",
       "      <td>no</td>\n",
       "      <td>1.0</td>\n",
       "      <td>graduate</td>\n",
       "      <td>no</td>\n",
       "      <td>3812</td>\n",
       "      <td>0.0</td>\n",
       "      <td>112.0</td>\n",
       "      <td>360.0</td>\n",
       "      <td>1.0</td>\n",
       "      <td>rural</td>\n",
       "      <td>y</td>\n",
       "    </tr>\n",
       "    <tr>\n",
       "      <th>441</th>\n",
       "      <td>lp002409</td>\n",
       "      <td>male</td>\n",
       "      <td>yes</td>\n",
       "      <td>0.0</td>\n",
       "      <td>graduate</td>\n",
       "      <td>no</td>\n",
       "      <td>7901</td>\n",
       "      <td>1833.0</td>\n",
       "      <td>180.0</td>\n",
       "      <td>360.0</td>\n",
       "      <td>1.0</td>\n",
       "      <td>rural</td>\n",
       "      <td>y</td>\n",
       "    </tr>\n",
       "    <tr>\n",
       "      <th>432</th>\n",
       "      <td>lp002386</td>\n",
       "      <td>male</td>\n",
       "      <td>no</td>\n",
       "      <td>0.0</td>\n",
       "      <td>graduate</td>\n",
       "      <td>NaN</td>\n",
       "      <td>12876</td>\n",
       "      <td>0.0</td>\n",
       "      <td>405.0</td>\n",
       "      <td>360.0</td>\n",
       "      <td>1.0</td>\n",
       "      <td>semiurban</td>\n",
       "      <td>y</td>\n",
       "    </tr>\n",
       "  </tbody>\n",
       "</table>\n",
       "</div>"
      ],
      "text/plain": [
       "      loan_id  gender married  dependents education self_employed  \\\n",
       "1    lp001003    male     yes         1.0  graduate            no   \n",
       "584  lp002911    male     yes         1.0  graduate            no   \n",
       "238  lp001790  female      no         1.0  graduate            no   \n",
       "441  lp002409    male     yes         0.0  graduate            no   \n",
       "432  lp002386    male      no         0.0  graduate           NaN   \n",
       "\n",
       "     applicantincome  coapplicantincome  loanamount  loan_amount_term  \\\n",
       "1               4583             1508.0       128.0             360.0   \n",
       "584             2787             1917.0       146.0             360.0   \n",
       "238             3812                0.0       112.0             360.0   \n",
       "441             7901             1833.0       180.0             360.0   \n",
       "432            12876                0.0       405.0             360.0   \n",
       "\n",
       "     credit_history property_area loan_status  \n",
       "1               1.0         rural           n  \n",
       "584             0.0         rural           n  \n",
       "238             1.0         rural           y  \n",
       "441             1.0         rural           y  \n",
       "432             1.0     semiurban           y  "
      ]
     },
     "execution_count": 3,
     "metadata": {},
     "output_type": "execute_result"
    }
   ],
   "source": [
    "# Checking few samples:\n",
    "df.sample(5)"
   ]
  },
  {
   "cell_type": "code",
   "execution_count": 4,
   "id": "9522d314",
   "metadata": {},
   "outputs": [
    {
     "data": {
      "text/plain": [
       "(614, 13)"
      ]
     },
     "execution_count": 4,
     "metadata": {},
     "output_type": "execute_result"
    }
   ],
   "source": [
    "# Checking the shape of the dataset:\n",
    "df.shape"
   ]
  },
  {
   "cell_type": "code",
   "execution_count": 5,
   "id": "3c42d7e5",
   "metadata": {},
   "outputs": [
    {
     "name": "stdout",
     "output_type": "stream",
     "text": [
      "<class 'pandas.core.frame.DataFrame'>\n",
      "RangeIndex: 614 entries, 0 to 613\n",
      "Data columns (total 13 columns):\n",
      " #   Column             Non-Null Count  Dtype  \n",
      "---  ------             --------------  -----  \n",
      " 0   loan_id            614 non-null    object \n",
      " 1   gender             601 non-null    object \n",
      " 2   married            611 non-null    object \n",
      " 3   dependents         599 non-null    float64\n",
      " 4   education          614 non-null    object \n",
      " 5   self_employed      582 non-null    object \n",
      " 6   applicantincome    614 non-null    int64  \n",
      " 7   coapplicantincome  614 non-null    float64\n",
      " 8   loanamount         592 non-null    float64\n",
      " 9   loan_amount_term   600 non-null    float64\n",
      " 10  credit_history     564 non-null    float64\n",
      " 11  property_area      614 non-null    object \n",
      " 12  loan_status        614 non-null    object \n",
      "dtypes: float64(5), int64(1), object(7)\n",
      "memory usage: 62.5+ KB\n"
     ]
    }
   ],
   "source": [
    "# Checking the basic information of the dataset:\n",
    "df.info()"
   ]
  },
  {
   "cell_type": "markdown",
   "id": "ee2bced6-88d3-454a-9dea-747fc413e3a5",
   "metadata": {},
   "source": [
    "#### Inferences:\n",
    "- **Dataset Size**: Contains 614 entries across 13 columns.\n",
    "- **Column Types**: 7 categorical columns(object type) and 6 numerical columns(float64 and int64 types).\n",
    "- **Missing Values**: Several columns have missing data, with varying degrees of incompleteness.\n",
    "- Columns with missing values include 'gender', 'married', 'dependents', 'self_employed', 'loanamount', 'loan_amount_term', and 'credit_history'."
   ]
  },
  {
   "cell_type": "code",
   "execution_count": 6,
   "id": "0c699ea2",
   "metadata": {},
   "outputs": [
    {
     "data": {
      "text/html": [
       "<div>\n",
       "<style scoped>\n",
       "    .dataframe tbody tr th:only-of-type {\n",
       "        vertical-align: middle;\n",
       "    }\n",
       "\n",
       "    .dataframe tbody tr th {\n",
       "        vertical-align: top;\n",
       "    }\n",
       "\n",
       "    .dataframe thead th {\n",
       "        text-align: right;\n",
       "    }\n",
       "</style>\n",
       "<table border=\"1\" class=\"dataframe\">\n",
       "  <thead>\n",
       "    <tr style=\"text-align: right;\">\n",
       "      <th></th>\n",
       "      <th>count</th>\n",
       "      <th>mean</th>\n",
       "      <th>std</th>\n",
       "      <th>min</th>\n",
       "      <th>25%</th>\n",
       "      <th>50%</th>\n",
       "      <th>75%</th>\n",
       "      <th>max</th>\n",
       "    </tr>\n",
       "  </thead>\n",
       "  <tbody>\n",
       "    <tr>\n",
       "      <th>dependents</th>\n",
       "      <td>599.0</td>\n",
       "      <td>0.762938</td>\n",
       "      <td>1.015216</td>\n",
       "      <td>0.0</td>\n",
       "      <td>0.0</td>\n",
       "      <td>0.0</td>\n",
       "      <td>2.00</td>\n",
       "      <td>3.0</td>\n",
       "    </tr>\n",
       "    <tr>\n",
       "      <th>applicantincome</th>\n",
       "      <td>614.0</td>\n",
       "      <td>5403.459283</td>\n",
       "      <td>6109.041673</td>\n",
       "      <td>150.0</td>\n",
       "      <td>2877.5</td>\n",
       "      <td>3812.5</td>\n",
       "      <td>5795.00</td>\n",
       "      <td>81000.0</td>\n",
       "    </tr>\n",
       "    <tr>\n",
       "      <th>coapplicantincome</th>\n",
       "      <td>614.0</td>\n",
       "      <td>1621.245798</td>\n",
       "      <td>2926.248369</td>\n",
       "      <td>0.0</td>\n",
       "      <td>0.0</td>\n",
       "      <td>1188.5</td>\n",
       "      <td>2297.25</td>\n",
       "      <td>41667.0</td>\n",
       "    </tr>\n",
       "    <tr>\n",
       "      <th>loanamount</th>\n",
       "      <td>592.0</td>\n",
       "      <td>146.412162</td>\n",
       "      <td>85.587325</td>\n",
       "      <td>9.0</td>\n",
       "      <td>100.0</td>\n",
       "      <td>128.0</td>\n",
       "      <td>168.00</td>\n",
       "      <td>700.0</td>\n",
       "    </tr>\n",
       "    <tr>\n",
       "      <th>loan_amount_term</th>\n",
       "      <td>600.0</td>\n",
       "      <td>342.000000</td>\n",
       "      <td>65.120410</td>\n",
       "      <td>12.0</td>\n",
       "      <td>360.0</td>\n",
       "      <td>360.0</td>\n",
       "      <td>360.00</td>\n",
       "      <td>480.0</td>\n",
       "    </tr>\n",
       "    <tr>\n",
       "      <th>credit_history</th>\n",
       "      <td>564.0</td>\n",
       "      <td>0.842199</td>\n",
       "      <td>0.364878</td>\n",
       "      <td>0.0</td>\n",
       "      <td>1.0</td>\n",
       "      <td>1.0</td>\n",
       "      <td>1.00</td>\n",
       "      <td>1.0</td>\n",
       "    </tr>\n",
       "  </tbody>\n",
       "</table>\n",
       "</div>"
      ],
      "text/plain": [
       "                   count         mean          std    min     25%     50%  \\\n",
       "dependents         599.0     0.762938     1.015216    0.0     0.0     0.0   \n",
       "applicantincome    614.0  5403.459283  6109.041673  150.0  2877.5  3812.5   \n",
       "coapplicantincome  614.0  1621.245798  2926.248369    0.0     0.0  1188.5   \n",
       "loanamount         592.0   146.412162    85.587325    9.0   100.0   128.0   \n",
       "loan_amount_term   600.0   342.000000    65.120410   12.0   360.0   360.0   \n",
       "credit_history     564.0     0.842199     0.364878    0.0     1.0     1.0   \n",
       "\n",
       "                       75%      max  \n",
       "dependents            2.00      3.0  \n",
       "applicantincome    5795.00  81000.0  \n",
       "coapplicantincome  2297.25  41667.0  \n",
       "loanamount          168.00    700.0  \n",
       "loan_amount_term    360.00    480.0  \n",
       "credit_history        1.00      1.0  "
      ]
     },
     "execution_count": 6,
     "metadata": {},
     "output_type": "execute_result"
    }
   ],
   "source": [
    "# Checking statistical summary of numerical columns:\n",
    "df.describe().T"
   ]
  },
  {
   "cell_type": "markdown",
   "id": "f4a539f3-6a0f-483d-a58b-a8287cffe859",
   "metadata": {},
   "source": [
    "#### Obseravtions:\n",
    "1. **Dependents**: Mean: 0.76, Std: 1.02, Range: 0 to 3. The majority have fewer dependents, mostly 0.\n",
    "2. **Applicant Income**: Mean: $5403.46, Std: $6109.04, Range: $150 to $81,000. Wide variation in income levels.\n",
    "3. **Coapplicant Income**: Mean: $1621.25, Std: $2926.25, Range: $0 to $41,667. The majority have lower incomes compared to applicants.\n",
    "4. **Loan Amount**: Mean: $146.41k, Std: $85.59k, Range: $9k to $700k. Significant variability in loan amounts.\n",
    "5. **Loan Amount Term**: Mean: 342 months (approx. 28.5 years), Std: 65.12 months. Most loans are for long terms, with the majority being around 30 years.\n",
    "6. **Credit History**: Mean: 0.84, Std: 0.36, Range: 0 to 1. Most applicants have a credit history meeting guidelines."
   ]
  },
  {
   "cell_type": "code",
   "execution_count": 7,
   "id": "9a4ea54c",
   "metadata": {},
   "outputs": [
    {
     "data": {
      "text/html": [
       "<div>\n",
       "<style scoped>\n",
       "    .dataframe tbody tr th:only-of-type {\n",
       "        vertical-align: middle;\n",
       "    }\n",
       "\n",
       "    .dataframe tbody tr th {\n",
       "        vertical-align: top;\n",
       "    }\n",
       "\n",
       "    .dataframe thead th {\n",
       "        text-align: right;\n",
       "    }\n",
       "</style>\n",
       "<table border=\"1\" class=\"dataframe\">\n",
       "  <thead>\n",
       "    <tr style=\"text-align: right;\">\n",
       "      <th></th>\n",
       "      <th>count</th>\n",
       "      <th>unique</th>\n",
       "      <th>top</th>\n",
       "      <th>freq</th>\n",
       "    </tr>\n",
       "  </thead>\n",
       "  <tbody>\n",
       "    <tr>\n",
       "      <th>loan_id</th>\n",
       "      <td>614</td>\n",
       "      <td>614</td>\n",
       "      <td>lp001002</td>\n",
       "      <td>1</td>\n",
       "    </tr>\n",
       "    <tr>\n",
       "      <th>gender</th>\n",
       "      <td>601</td>\n",
       "      <td>2</td>\n",
       "      <td>male</td>\n",
       "      <td>489</td>\n",
       "    </tr>\n",
       "    <tr>\n",
       "      <th>married</th>\n",
       "      <td>611</td>\n",
       "      <td>2</td>\n",
       "      <td>yes</td>\n",
       "      <td>398</td>\n",
       "    </tr>\n",
       "    <tr>\n",
       "      <th>education</th>\n",
       "      <td>614</td>\n",
       "      <td>2</td>\n",
       "      <td>graduate</td>\n",
       "      <td>480</td>\n",
       "    </tr>\n",
       "    <tr>\n",
       "      <th>self_employed</th>\n",
       "      <td>582</td>\n",
       "      <td>2</td>\n",
       "      <td>no</td>\n",
       "      <td>500</td>\n",
       "    </tr>\n",
       "    <tr>\n",
       "      <th>property_area</th>\n",
       "      <td>614</td>\n",
       "      <td>3</td>\n",
       "      <td>semiurban</td>\n",
       "      <td>233</td>\n",
       "    </tr>\n",
       "    <tr>\n",
       "      <th>loan_status</th>\n",
       "      <td>614</td>\n",
       "      <td>2</td>\n",
       "      <td>y</td>\n",
       "      <td>422</td>\n",
       "    </tr>\n",
       "  </tbody>\n",
       "</table>\n",
       "</div>"
      ],
      "text/plain": [
       "              count unique        top freq\n",
       "loan_id         614    614   lp001002    1\n",
       "gender          601      2       male  489\n",
       "married         611      2        yes  398\n",
       "education       614      2   graduate  480\n",
       "self_employed   582      2         no  500\n",
       "property_area   614      3  semiurban  233\n",
       "loan_status     614      2          y  422"
      ]
     },
     "execution_count": 7,
     "metadata": {},
     "output_type": "execute_result"
    }
   ],
   "source": [
    "# Checking statistical summary of categorical columns:\n",
    "df.describe(include = 'O').T"
   ]
  },
  {
   "cell_type": "markdown",
   "id": "eb368d87-0b04-42ae-b992-c30fd7490694",
   "metadata": {},
   "source": [
    "#### Observations:\n",
    "1. **Loan ID**: All entries are unique, indicating a unique identifier for each loan application.\n",
    "2. **Gender**: The majority of applicants are male (489 out of 601).\n",
    "3. **Married**: Most applicants are married (398 out of 611).\n",
    "4. **Education**: The majority of applicants are graduates (480 out of 614).\n",
    "5. **Self Employed**: Most applicants are not self-employed (500 out of 582).\n",
    "6. **Property Area**: The most common property area is semiurban (233 out of 614).\n",
    "7. **Loan Status**: The majority of loans are approved (422 out of 614)."
   ]
  },
  {
   "cell_type": "markdown",
   "id": "86b00ac0",
   "metadata": {},
   "source": [
    "#### 3. Check for missing values in the dataset, if present? handle them with appropriate methods and drop redundant features."
   ]
  },
  {
   "cell_type": "code",
   "execution_count": 8,
   "id": "15d5eb7b",
   "metadata": {},
   "outputs": [
    {
     "data": {
      "text/plain": [
       "loan_id              0.000000\n",
       "gender               2.117264\n",
       "married              0.488599\n",
       "dependents           2.442997\n",
       "education            0.000000\n",
       "self_employed        5.211726\n",
       "applicantincome      0.000000\n",
       "coapplicantincome    0.000000\n",
       "loanamount           3.583062\n",
       "loan_amount_term     2.280130\n",
       "credit_history       8.143322\n",
       "property_area        0.000000\n",
       "loan_status          0.000000\n",
       "dtype: float64"
      ]
     },
     "execution_count": 8,
     "metadata": {},
     "output_type": "execute_result"
    }
   ],
   "source": [
    "# Calculating the percentage of missing values for each column in the DataFrame:\n",
    "df.isnull().sum()/len(df)*100"
   ]
  },
  {
   "cell_type": "code",
   "execution_count": 9,
   "id": "22fe6864-7120-4d7c-b7fd-5ee295b88ac0",
   "metadata": {},
   "outputs": [],
   "source": [
    "# Handling missing data in numerical columns by replacing values with median:\n",
    "df['dependents'].fillna(df['dependents'].median(), inplace=True)\n",
    "df['loanamount'].fillna(df['loanamount'].median(), inplace=True)\n",
    "df['loan_amount_term'].fillna(df['loan_amount_term'].median(), inplace=True)\n",
    "df['credit_history'].fillna(df['credit_history'].median(), inplace=True)"
   ]
  },
  {
   "cell_type": "code",
   "execution_count": 10,
   "id": "4a972759-42e7-43a8-b646-312faf4f0e76",
   "metadata": {},
   "outputs": [],
   "source": [
    "# Handling missing data in categorical columns by replacing values with mode:\n",
    "df['gender'].fillna(df['gender'].mode()[0],inplace=True)\n",
    "df['married'].fillna(df['married'].mode()[0],inplace=True)\n",
    "df['self_employed'].fillna(df['self_employed'].mode()[0],inplace=True)"
   ]
  },
  {
   "cell_type": "code",
   "execution_count": 11,
   "id": "5e3a28a3",
   "metadata": {},
   "outputs": [],
   "source": [
    "# Converting credit_history column to Integer datatype\n",
    "df['credit_history'] = df['credit_history'].astype(int)"
   ]
  },
  {
   "cell_type": "code",
   "execution_count": 12,
   "id": "8bc9b5e6",
   "metadata": {},
   "outputs": [],
   "source": [
    "# Removing redundant column 'loan_id' as it does not contribute to our analysis\n",
    "df.drop(['loan_id'], axis=1, inplace=True)"
   ]
  },
  {
   "cell_type": "code",
   "execution_count": 13,
   "id": "0969452d-b62a-4d4b-a29e-8df0df1a4daf",
   "metadata": {},
   "outputs": [
    {
     "data": {
      "text/plain": [
       "gender               0.0\n",
       "married              0.0\n",
       "dependents           0.0\n",
       "education            0.0\n",
       "self_employed        0.0\n",
       "applicantincome      0.0\n",
       "coapplicantincome    0.0\n",
       "loanamount           0.0\n",
       "loan_amount_term     0.0\n",
       "credit_history       0.0\n",
       "property_area        0.0\n",
       "loan_status          0.0\n",
       "dtype: float64"
      ]
     },
     "execution_count": 13,
     "metadata": {},
     "output_type": "execute_result"
    }
   ],
   "source": [
    "# Checking for any remaining missing values after imputation and expressing the results as percentages:\n",
    "df.isnull().sum()/len(df)*100"
   ]
  },
  {
   "cell_type": "markdown",
   "id": "e7b06bde-2110-4c8b-867e-b9bea9a68476",
   "metadata": {},
   "source": [
    "- We can observe that there are no remaining missing values in the dataset, indicating that all missing values have been successfully handled through imputation methods."
   ]
  },
  {
   "cell_type": "code",
   "execution_count": 14,
   "id": "5ea7804a-6fa5-44bc-a5e2-5c495260dc6e",
   "metadata": {},
   "outputs": [
    {
     "data": {
      "text/plain": [
       "(614, 12)"
      ]
     },
     "execution_count": 14,
     "metadata": {},
     "output_type": "execute_result"
    }
   ],
   "source": [
    "# Checking the dimensions of the dataset after dropping redundant columns and imputations\n",
    "df.shape"
   ]
  },
  {
   "cell_type": "markdown",
   "id": "6c6eb7bd-4698-4ba0-85ed-cf0c95fe8553",
   "metadata": {},
   "source": [
    "- The dataset consists of 614 rows and 12 columns after dropping redundant columns and performing imputations."
   ]
  },
  {
   "cell_type": "markdown",
   "id": "b456597c",
   "metadata": {},
   "source": [
    "#### 4. Visualize the distribution of the target column 'loan_status' with respect to various categorical features and write your observations."
   ]
  },
  {
   "cell_type": "code",
   "execution_count": 15,
   "id": "4c2a9081-2c5e-4029-bdf6-7950c7fa5149",
   "metadata": {},
   "outputs": [
    {
     "data": {
      "image/png": "[encoded data removed]",
      "text/plain": [
       "<Figure size 1500x1000 with 5 Axes>"
      ]
     },
     "metadata": {},
     "output_type": "display_data"
    }
   ],
   "source": [
    "plt.figure(figsize=(15, 10))\n",
    "\n",
    "# Define categorical features to visualize\n",
    "categorical_features = ['gender', 'married', 'education', 'self_employed', 'property_area']\n",
    "\n",
    "# Iterate over each categorical feature and create subplots\n",
    "for i, feature in enumerate(categorical_features, start=1):\n",
    "    plt.subplot(2, 3, i)\n",
    "    sns.countplot(x=feature, hue='loan_status', data=df)\n",
    "    plt.title(f'Distribution of loan_status by {feature}')\n",
    "\n",
    "plt.tight_layout()\n",
    "plt.show()"
   ]
  },
  {
   "cell_type": "markdown",
   "id": "a8546394-580d-4145-843e-00a61afe682d",
   "metadata": {},
   "source": [
    "#### Observations:\n",
    "- **gender**: The approval rate for males is notably higher compared to females.\n",
    "- **married**: Married individuals exhibit a higher likelihood of loan approval compared to unmarried individuals.\n",
    "- **education**: Graduates demonstrate a higher probability of loan approval in contrast to undergraduates.\n",
    "- **self_employed**: Surprisingly, non-self-employed individuals show a higher approval rate, suggesting a possible preference towards employed applicants, possibly indicating stability.\n",
    "- **property_area**: Semi-urban regions exhibit a higher propensity for loan approval compared to urban and rural areas, implying potential factors such as income stability or property value."
   ]
  },
  {
   "cell_type": "code",
   "execution_count": 16,
   "id": "e8c79f27-9d00-4ceb-b29e-277bf81d297a",
   "metadata": {},
   "outputs": [],
   "source": [
    "# Keeping a copy of the cleaned dataset.\n",
    "dfc = df.copy()"
   ]
  },
  {
   "cell_type": "markdown",
   "id": "a9164ad0",
   "metadata": {},
   "source": [
    "#### 5. Encode the categorical data."
   ]
  },
  {
   "cell_type": "code",
   "execution_count": 17,
   "id": "feb36625-af58-4257-a56e-f07a02e489a5",
   "metadata": {},
   "outputs": [
    {
     "name": "stdout",
     "output_type": "stream",
     "text": [
      "Categorical columns: ['gender', 'married', 'education', 'self_employed', 'property_area', 'loan_status']\n"
     ]
    }
   ],
   "source": [
    "# Filter categorical columns:\n",
    "cat_cols = [col for col in df.columns if df[col].dtype == 'O']\n",
    "\n",
    "# Print names of categorical columns\n",
    "print(\"Categorical columns:\", cat_cols)"
   ]
  },
  {
   "cell_type": "code",
   "execution_count": 18,
   "id": "6362dc44-978f-4915-8635-f4b28ac00f92",
   "metadata": {},
   "outputs": [
    {
     "data": {
      "text/html": [
       "<div>\n",
       "<style scoped>\n",
       "    .dataframe tbody tr th:only-of-type {\n",
       "        vertical-align: middle;\n",
       "    }\n",
       "\n",
       "    .dataframe tbody tr th {\n",
       "        vertical-align: top;\n",
       "    }\n",
       "\n",
       "    .dataframe thead th {\n",
       "        text-align: right;\n",
       "    }\n",
       "</style>\n",
       "<table border=\"1\" class=\"dataframe\">\n",
       "  <thead>\n",
       "    <tr style=\"text-align: right;\">\n",
       "      <th></th>\n",
       "      <th>gender</th>\n",
       "      <th>married</th>\n",
       "      <th>dependents</th>\n",
       "      <th>education</th>\n",
       "      <th>self_employed</th>\n",
       "      <th>applicantincome</th>\n",
       "      <th>coapplicantincome</th>\n",
       "      <th>loanamount</th>\n",
       "      <th>loan_amount_term</th>\n",
       "      <th>credit_history</th>\n",
       "      <th>property_area</th>\n",
       "      <th>loan_status</th>\n",
       "    </tr>\n",
       "  </thead>\n",
       "  <tbody>\n",
       "    <tr>\n",
       "      <th>0</th>\n",
       "      <td>1</td>\n",
       "      <td>0</td>\n",
       "      <td>0.0</td>\n",
       "      <td>0</td>\n",
       "      <td>0</td>\n",
       "      <td>5849</td>\n",
       "      <td>0.0</td>\n",
       "      <td>128.0</td>\n",
       "      <td>360.0</td>\n",
       "      <td>1</td>\n",
       "      <td>2</td>\n",
       "      <td>1</td>\n",
       "    </tr>\n",
       "    <tr>\n",
       "      <th>1</th>\n",
       "      <td>1</td>\n",
       "      <td>1</td>\n",
       "      <td>1.0</td>\n",
       "      <td>0</td>\n",
       "      <td>0</td>\n",
       "      <td>4583</td>\n",
       "      <td>1508.0</td>\n",
       "      <td>128.0</td>\n",
       "      <td>360.0</td>\n",
       "      <td>1</td>\n",
       "      <td>0</td>\n",
       "      <td>0</td>\n",
       "    </tr>\n",
       "    <tr>\n",
       "      <th>2</th>\n",
       "      <td>1</td>\n",
       "      <td>1</td>\n",
       "      <td>0.0</td>\n",
       "      <td>0</td>\n",
       "      <td>1</td>\n",
       "      <td>3000</td>\n",
       "      <td>0.0</td>\n",
       "      <td>66.0</td>\n",
       "      <td>360.0</td>\n",
       "      <td>1</td>\n",
       "      <td>2</td>\n",
       "      <td>1</td>\n",
       "    </tr>\n",
       "  </tbody>\n",
       "</table>\n",
       "</div>"
      ],
      "text/plain": [
       "   gender  married  dependents  education  self_employed  applicantincome  \\\n",
       "0       1        0         0.0          0              0             5849   \n",
       "1       1        1         1.0          0              0             4583   \n",
       "2       1        1         0.0          0              1             3000   \n",
       "\n",
       "   coapplicantincome  loanamount  loan_amount_term  credit_history  \\\n",
       "0                0.0       128.0             360.0               1   \n",
       "1             1508.0       128.0             360.0               1   \n",
       "2                0.0        66.0             360.0               1   \n",
       "\n",
       "   property_area  loan_status  \n",
       "0              2            1  \n",
       "1              0            0  \n",
       "2              2            1  "
      ]
     },
     "execution_count": 18,
     "metadata": {},
     "output_type": "execute_result"
    }
   ],
   "source": [
    "# Now Label Encoding the categorical variables\n",
    "le = LabelEncoder()\n",
    "for i in cat_cols:\n",
    "    df[i] = df[[i]].apply(le.fit_transform).astype('int32')\n",
    "\n",
    "df.head(3)"
   ]
  },
  {
   "cell_type": "markdown",
   "id": "68db9937-e33f-4dc8-8852-c8f7a28b47a7",
   "metadata": {},
   "source": [
    "- All categorical columns have been successfully encoded into numerical values, making the dataset entirely numerical."
   ]
  },
  {
   "cell_type": "code",
   "execution_count": 19,
   "id": "a0d7fd9d-f178-4917-8e88-0111f26b525c",
   "metadata": {},
   "outputs": [
    {
     "name": "stdout",
     "output_type": "stream",
     "text": [
      "<class 'pandas.core.frame.DataFrame'>\n",
      "RangeIndex: 614 entries, 0 to 613\n",
      "Data columns (total 12 columns):\n",
      " #   Column             Non-Null Count  Dtype  \n",
      "---  ------             --------------  -----  \n",
      " 0   gender             614 non-null    int32  \n",
      " 1   married            614 non-null    int32  \n",
      " 2   dependents         614 non-null    float64\n",
      " 3   education          614 non-null    int32  \n",
      " 4   self_employed      614 non-null    int32  \n",
      " 5   applicantincome    614 non-null    int64  \n",
      " 6   coapplicantincome  614 non-null    float64\n",
      " 7   loanamount         614 non-null    float64\n",
      " 8   loan_amount_term   614 non-null    float64\n",
      " 9   credit_history     614 non-null    int32  \n",
      " 10  property_area      614 non-null    int32  \n",
      " 11  loan_status        614 non-null    int32  \n",
      "dtypes: float64(4), int32(7), int64(1)\n",
      "memory usage: 40.9 KB\n"
     ]
    }
   ],
   "source": [
    "df.info()"
   ]
  },
  {
   "cell_type": "code",
   "execution_count": 20,
   "id": "b5a48fa8-4ab9-4b56-8e18-9c8a5200a547",
   "metadata": {},
   "outputs": [],
   "source": [
    "# Converting data type of 'dependents', 'loan_amount_term', and 'loanamount' columns from float to integer\n",
    "# Converting to integer as the values represent whole numbers and there is no fractional part.\n",
    "df['dependents'] = df['dependents'].astype(int)\n",
    "df['loan_amount_term'] = df['loan_amount_term'].astype(int)\n",
    "df['loanamount'] = df['loanamount'].astype(int)"
   ]
  },
  {
   "cell_type": "code",
   "execution_count": 21,
   "id": "ed9706c1",
   "metadata": {},
   "outputs": [
    {
     "data": {
      "text/html": [
       "<div>\n",
       "<style scoped>\n",
       "    .dataframe tbody tr th:only-of-type {\n",
       "        vertical-align: middle;\n",
       "    }\n",
       "\n",
       "    .dataframe tbody tr th {\n",
       "        vertical-align: top;\n",
       "    }\n",
       "\n",
       "    .dataframe thead th {\n",
       "        text-align: right;\n",
       "    }\n",
       "</style>\n",
       "<table border=\"1\" class=\"dataframe\">\n",
       "  <thead>\n",
       "    <tr style=\"text-align: right;\">\n",
       "      <th></th>\n",
       "      <th>gender</th>\n",
       "      <th>married</th>\n",
       "      <th>dependents</th>\n",
       "      <th>education</th>\n",
       "      <th>self_employed</th>\n",
       "      <th>applicantincome</th>\n",
       "      <th>coapplicantincome</th>\n",
       "      <th>loanamount</th>\n",
       "      <th>loan_amount_term</th>\n",
       "      <th>credit_history</th>\n",
       "      <th>property_area</th>\n",
       "      <th>loan_status</th>\n",
       "    </tr>\n",
       "  </thead>\n",
       "  <tbody>\n",
       "    <tr>\n",
       "      <th>0</th>\n",
       "      <td>1</td>\n",
       "      <td>0</td>\n",
       "      <td>0</td>\n",
       "      <td>0</td>\n",
       "      <td>0</td>\n",
       "      <td>5849</td>\n",
       "      <td>0.0</td>\n",
       "      <td>128</td>\n",
       "      <td>360</td>\n",
       "      <td>1</td>\n",
       "      <td>2</td>\n",
       "      <td>1</td>\n",
       "    </tr>\n",
       "    <tr>\n",
       "      <th>1</th>\n",
       "      <td>1</td>\n",
       "      <td>1</td>\n",
       "      <td>1</td>\n",
       "      <td>0</td>\n",
       "      <td>0</td>\n",
       "      <td>4583</td>\n",
       "      <td>1508.0</td>\n",
       "      <td>128</td>\n",
       "      <td>360</td>\n",
       "      <td>1</td>\n",
       "      <td>0</td>\n",
       "      <td>0</td>\n",
       "    </tr>\n",
       "    <tr>\n",
       "      <th>2</th>\n",
       "      <td>1</td>\n",
       "      <td>1</td>\n",
       "      <td>0</td>\n",
       "      <td>0</td>\n",
       "      <td>1</td>\n",
       "      <td>3000</td>\n",
       "      <td>0.0</td>\n",
       "      <td>66</td>\n",
       "      <td>360</td>\n",
       "      <td>1</td>\n",
       "      <td>2</td>\n",
       "      <td>1</td>\n",
       "    </tr>\n",
       "  </tbody>\n",
       "</table>\n",
       "</div>"
      ],
      "text/plain": [
       "   gender  married  dependents  education  self_employed  applicantincome  \\\n",
       "0       1        0           0          0              0             5849   \n",
       "1       1        1           1          0              0             4583   \n",
       "2       1        1           0          0              1             3000   \n",
       "\n",
       "   coapplicantincome  loanamount  loan_amount_term  credit_history  \\\n",
       "0                0.0         128               360               1   \n",
       "1             1508.0         128               360               1   \n",
       "2                0.0          66               360               1   \n",
       "\n",
       "   property_area  loan_status  \n",
       "0              2            1  \n",
       "1              0            0  \n",
       "2              2            1  "
      ]
     },
     "execution_count": 21,
     "metadata": {},
     "output_type": "execute_result"
    }
   ],
   "source": [
    "df.head(3)"
   ]
  },
  {
   "cell_type": "markdown",
   "id": "b6d45939",
   "metadata": {},
   "source": [
    "#### 6. Separate the target and independent features and split the data into train and test."
   ]
  },
  {
   "cell_type": "code",
   "execution_count": 22,
   "id": "91208bd3",
   "metadata": {},
   "outputs": [],
   "source": [
    "# Separating the target variable (y) and independent features (X):\n",
    "X = df.drop('loan_status',axis=1)\n",
    "y = df['loan_status']"
   ]
  },
  {
   "cell_type": "code",
   "execution_count": 23,
   "id": "bf4f4fb5-9790-432c-80f8-26a08ec97270",
   "metadata": {},
   "outputs": [
    {
     "name": "stdout",
     "output_type": "stream",
     "text": [
      "Shape of X_train: (429, 11)\n",
      "Shape of X_test: (185, 11)\n",
      "Shape of y_train: (429,)\n",
      "Shape of y_test: (185,)\n"
     ]
    }
   ],
   "source": [
    "# Splitting the dataset into 70% train and 30% test sets:\n",
    "X_train, X_test, y_train, y_test = train_test_split(X, y, test_size=0.30, random_state=0)\n",
    "\n",
    "# Print the shapes of the train and test data\n",
    "print(\"Shape of X_train:\", X_train.shape)\n",
    "print(\"Shape of X_test:\", X_test.shape)\n",
    "print(\"Shape of y_train:\", y_train.shape)\n",
    "print(\"Shape of y_test:\", y_test.shape)"
   ]
  },
  {
   "cell_type": "markdown",
   "id": "2ab22097",
   "metadata": {},
   "source": [
    "#### 7. Build any classification model to predict the loan status of the customer and save your model using pickle."
   ]
  },
  {
   "cell_type": "code",
   "execution_count": 24,
   "id": "b930db70-8ffd-4cbe-ac23-643ae67c0b7a",
   "metadata": {},
   "outputs": [],
   "source": [
    "# Function to fit and predict with a model\n",
    "def fit_n_predict(model, X_train, X_test, y_train, y_test): \n",
    "    # Fit the model with train data\n",
    "    model.fit(X_train, y_train)\n",
    "    \n",
    "    # Making prediction on test set\n",
    "    pred = model.predict(X_test)\n",
    "    \n",
    "    # Calculating the accuracy score\n",
    "    accuracy = accuracy_score(y_test, pred)\n",
    "    \n",
    "    return accuracy "
   ]
  },
  {
   "cell_type": "code",
   "execution_count": 25,
   "id": "3e993bb3-6095-443a-9aed-dd19021cf6d0",
   "metadata": {},
   "outputs": [],
   "source": [
    "# Initializing the Models\n",
    "lr = LogisticRegression()\n",
    "nb = GaussianNB()\n",
    "knn = KNeighborsClassifier()\n",
    "dt = DecisionTreeClassifier()\n",
    "rf = RandomForestClassifier()\n",
    "adb = AdaBoostClassifier()\n",
    "gb = GradientBoostingClassifier()\n",
    "\n",
    "# Stacking Classifier Initialization\n",
    "estimators = [('rf', rf), ('knn', knn), ('gb', gb), ('adb', adb)]\n",
    "sc = StackingClassifier(estimators=estimators, final_estimator=rf)"
   ]
  },
  {
   "cell_type": "code",
   "execution_count": 26,
   "id": "090b6819-1ab4-41a9-88a2-fca5ca6c81f2",
   "metadata": {},
   "outputs": [],
   "source": [
    "# DataFrame to store results\n",
    "result = pd.DataFrame(columns=['Accuracy'])  # Initialize a DataFrame to store accuracy results\n",
    "\n",
    "# Model Evaluation Loop\n",
    "for model, model_name in zip([lr, nb, knn, dt, rf, adb, gb, sc],  # Iterate over each model and its name\n",
    "                             ['Logistic Regression', 'Naive Bayes', 'KNN', 'Descision Tree',\n",
    "                              'Random Forest', 'Ada Boost', 'Gradient Boost', 'Stacking']):  \n",
    "    \n",
    "    # Fit the model, make predictions, and calculate accuracy using the fit_n_predict function\n",
    "    # and store the accuracy result in the result DataFrame\n",
    "    result.loc[model_name] = fit_n_predict(model, X_train, X_test, y_train, y_test)\n"
   ]
  },
  {
   "cell_type": "code",
   "execution_count": 27,
   "id": "ba68a825-590a-4604-aae4-7c3c1586271a",
   "metadata": {},
   "outputs": [
    {
     "data": {
      "text/html": [
       "<div>\n",
       "<style scoped>\n",
       "    .dataframe tbody tr th:only-of-type {\n",
       "        vertical-align: middle;\n",
       "    }\n",
       "\n",
       "    .dataframe tbody tr th {\n",
       "        vertical-align: top;\n",
       "    }\n",
       "\n",
       "    .dataframe thead th {\n",
       "        text-align: right;\n",
       "    }\n",
       "</style>\n",
       "<table border=\"1\" class=\"dataframe\">\n",
       "  <thead>\n",
       "    <tr style=\"text-align: right;\">\n",
       "      <th></th>\n",
       "      <th>Accuracy</th>\n",
       "    </tr>\n",
       "  </thead>\n",
       "  <tbody>\n",
       "    <tr>\n",
       "      <th>Logistic Regression</th>\n",
       "      <td>0.827027</td>\n",
       "    </tr>\n",
       "    <tr>\n",
       "      <th>Naive Bayes</th>\n",
       "      <td>0.821622</td>\n",
       "    </tr>\n",
       "    <tr>\n",
       "      <th>KNN</th>\n",
       "      <td>0.627027</td>\n",
       "    </tr>\n",
       "    <tr>\n",
       "      <th>Descision Tree</th>\n",
       "      <td>0.729730</td>\n",
       "    </tr>\n",
       "    <tr>\n",
       "      <th>Random Forest</th>\n",
       "      <td>0.783784</td>\n",
       "    </tr>\n",
       "    <tr>\n",
       "      <th>Ada Boost</th>\n",
       "      <td>0.816216</td>\n",
       "    </tr>\n",
       "    <tr>\n",
       "      <th>Gradient Boost</th>\n",
       "      <td>0.810811</td>\n",
       "    </tr>\n",
       "    <tr>\n",
       "      <th>Stacking</th>\n",
       "      <td>0.794595</td>\n",
       "    </tr>\n",
       "  </tbody>\n",
       "</table>\n",
       "</div>"
      ],
      "text/plain": [
       "                     Accuracy\n",
       "Logistic Regression  0.827027\n",
       "Naive Bayes          0.821622\n",
       "KNN                  0.627027\n",
       "Descision Tree       0.729730\n",
       "Random Forest        0.783784\n",
       "Ada Boost            0.816216\n",
       "Gradient Boost       0.810811\n",
       "Stacking             0.794595"
      ]
     },
     "execution_count": 27,
     "metadata": {},
     "output_type": "execute_result"
    }
   ],
   "source": [
    "result"
   ]
  },
  {
   "cell_type": "markdown",
   "id": "a8e3925a-17f4-43b0-9061-43b4871aeecd",
   "metadata": {},
   "source": [
    "- With an accuracy score of 82.7%, Logistic Regression emerges as the top-performing model among those evaluated. Therefore, choosing Logistic Regression as our predictive model would be the most suitable approach for accurately predicting the loan status of customers in this scenario."
   ]
  },
  {
   "cell_type": "code",
   "execution_count": 28,
   "id": "bb5882e3-b677-416d-b498-512e90871102",
   "metadata": {},
   "outputs": [
    {
     "data": {
      "text/html": [
       "<style>#sk-container-id-1 {color: black;background-color: white;}#sk-container-id-1 pre{padding: 0;}#sk-container-id-1 div.sk-toggleable {background-color: white;}#sk-container-id-1 label.sk-toggleable__label {cursor: pointer;display: block;width: 100%;margin-bottom: 0;padding: 0.3em;box-sizing: border-box;text-align: center;}#sk-container-id-1 label.sk-toggleable__label-arrow:before {content: \"▸\";float: left;margin-right: 0.25em;color: #696969;}#sk-container-id-1 label.sk-toggleable__label-arrow:hover:before {color: black;}#sk-container-id-1 div.sk-estimator:hover label.sk-toggleable__label-arrow:before {color: black;}#sk-container-id-1 div.sk-toggleable__content {max-height: 0;max-width: 0;overflow: hidden;text-align: left;background-color: #f0f8ff;}#sk-container-id-1 div.sk-toggleable__content pre {margin: 0.2em;color: black;border-radius: 0.25em;background-color: #f0f8ff;}#sk-container-id-1 input.sk-toggleable__control:checked~div.sk-toggleable__content {max-height: 200px;max-width: 100%;overflow: auto;}#sk-container-id-1 input.sk-toggleable__control:checked~label.sk-toggleable__label-arrow:before {content: \"▾\";}#sk-container-id-1 div.sk-estimator input.sk-toggleable__control:checked~label.sk-toggleable__label {background-color: #d4ebff;}#sk-container-id-1 div.sk-label input.sk-toggleable__control:checked~label.sk-toggleable__label {background-color: #d4ebff;}#sk-container-id-1 input.sk-hidden--visually {border: 0;clip: rect(1px 1px 1px 1px);clip: rect(1px, 1px, 1px, 1px);height: 1px;margin: -1px;overflow: hidden;padding: 0;position: absolute;width: 1px;}#sk-container-id-1 div.sk-estimator {font-family: monospace;background-color: #f0f8ff;border: 1px dotted black;border-radius: 0.25em;box-sizing: border-box;margin-bottom: 0.5em;}#sk-container-id-1 div.sk-estimator:hover {background-color: #d4ebff;}#sk-container-id-1 div.sk-parallel-item::after {content: \"\";width: 100%;border-bottom: 1px solid gray;flex-grow: 1;}#sk-container-id-1 div.sk-label:hover label.sk-toggleable__label {background-color: #d4ebff;}#sk-container-id-1 div.sk-serial::before {content: \"\";position: absolute;border-left: 1px solid gray;box-sizing: border-box;top: 0;bottom: 0;left: 50%;z-index: 0;}#sk-container-id-1 div.sk-serial {display: flex;flex-direction: column;align-items: center;background-color: white;padding-right: 0.2em;padding-left: 0.2em;position: relative;}#sk-container-id-1 div.sk-item {position: relative;z-index: 1;}#sk-container-id-1 div.sk-parallel {display: flex;align-items: stretch;justify-content: center;background-color: white;position: relative;}#sk-container-id-1 div.sk-item::before, #sk-container-id-1 div.sk-parallel-item::before {content: \"\";position: absolute;border-left: 1px solid gray;box-sizing: border-box;top: 0;bottom: 0;left: 50%;z-index: -1;}#sk-container-id-1 div.sk-parallel-item {display: flex;flex-direction: column;z-index: 1;position: relative;background-color: white;}#sk-container-id-1 div.sk-parallel-item:first-child::after {align-self: flex-end;width: 50%;}#sk-container-id-1 div.sk-parallel-item:last-child::after {align-self: flex-start;width: 50%;}#sk-container-id-1 div.sk-parallel-item:only-child::after {width: 0;}#sk-container-id-1 div.sk-dashed-wrapped {border: 1px dashed gray;margin: 0 0.4em 0.5em 0.4em;box-sizing: border-box;padding-bottom: 0.4em;background-color: white;}#sk-container-id-1 div.sk-label label {font-family: monospace;font-weight: bold;display: inline-block;line-height: 1.2em;}#sk-container-id-1 div.sk-label-container {text-align: center;}#sk-container-id-1 div.sk-container {/* jupyter's `normalize.less` sets `[hidden] { display: none; }` but bootstrap.min.css set `[hidden] { display: none !important; }` so we also need the `!important` here to be able to override the default hidden behavior on the sphinx rendered scikit-learn.org. See: https://github.com/scikit-learn/scikit-learn/issues/21755 */display: inline-block !important;position: relative;}#sk-container-id-1 div.sk-text-repr-fallback {display: none;}</style><div id=\"sk-container-id-1\" class=\"sk-top-container\"><div class=\"sk-text-repr-fallback\"><pre>LogisticRegression()</pre><b>In a Jupyter environment, please rerun this cell to show the HTML representation or trust the notebook. <br />On GitHub, the HTML representation is unable to render, please try loading this page with nbviewer.org.</b></div><div class=\"sk-container\" hidden><div class=\"sk-item\"><div class=\"sk-estimator sk-toggleable\"><input class=\"sk-toggleable__control sk-hidden--visually\" id=\"sk-estimator-id-1\" type=\"checkbox\" checked><label for=\"sk-estimator-id-1\" class=\"sk-toggleable__label sk-toggleable__label-arrow\">LogisticRegression</label><div class=\"sk-toggleable__content\"><pre>LogisticRegression()</pre></div></div></div></div></div>"
      ],
      "text/plain": [
       "LogisticRegression()"
      ]
     },
     "execution_count": 28,
     "metadata": {},
     "output_type": "execute_result"
    }
   ],
   "source": [
    "# Using Logistic Regression\n",
    "lr = LogisticRegression()  # Initialize Logistic Regression model\n",
    "\n",
    "# Fit the Logistic Regression model on the training data\n",
    "lr.fit(X_train, y_train)"
   ]
  },
  {
   "cell_type": "code",
   "execution_count": 29,
   "id": "11af05bf-c92d-4909-9d55-eaf57f8a36b2",
   "metadata": {},
   "outputs": [
    {
     "name": "stdout",
     "output_type": "stream",
     "text": [
      "Accuracy score on training data: 0.8018648018648019\n",
      "Accuracy score on testing data: 0.827027027027027\n"
     ]
    }
   ],
   "source": [
    "# Predicting on training and testing data:\n",
    "y_train_pred = lr.predict(X_train)\n",
    "y_test_pred = lr.predict(X_test)\n",
    "\n",
    "# Calculating Accuracy score for training and testing data:\n",
    "accuracy_train = metrics.accuracy_score(y_train, y_train_pred)\n",
    "accuracy_test = metrics.accuracy_score(y_test, y_test_pred)\n",
    "\n",
    "print(\"Accuracy score on training data:\", accuracy_train)\n",
    "print(\"Accuracy score on testing data:\", accuracy_test)"
   ]
  },
  {
   "cell_type": "markdown",
   "id": "efbe94a8-4016-489e-8d62-c6f4c5f26b66",
   "metadata": {},
   "source": [
    "#### Inference:\n",
    "- The accuracy score on the training data is approximately 80.19%, indicating that the model performs well in predicting the loan status for the samples it was trained on. Similarly, the accuracy score on the testing data is approximately 82.70%, suggesting that the model generalizes well to unseen data and maintains its predictive performance.\n",
    "\n",
    "- Overall, the consistency in accuracy scores between the training and testing datasets indicates that the model is robust and effectively learns patterns from the data without overfitting. This suggests that the Logistic Regression model is suitable for predicting the loan status of customers, demonstrating its reliability in real-world applications."
   ]
  },
  {
   "cell_type": "code",
   "execution_count": 30,
   "id": "f7550c20-02ed-4d14-bb6c-d457d6d14c29",
   "metadata": {},
   "outputs": [
    {
     "name": "stdout",
     "output_type": "stream",
     "text": [
      "Model pickled successfully\n"
     ]
    }
   ],
   "source": [
    "# Creating a pickle file for the model:\n",
    "import pickle\n",
    "# Dumping the model to a file\n",
    "pickle.dump(lr, open('model.pkl', 'wb'))\n",
    "print(\"Model pickled successfully\")"
   ]
  },
  {
   "cell_type": "markdown",
   "id": "ab98dd08-3845-4400-a111-d14ced3ad752",
   "metadata": {},
   "source": [
    "#### For further steps lets move to VS Code:"
   ]
  },
  {
   "cell_type": "markdown",
   "id": "7687eb81-208c-4161-9d76-3c1792100ba1",
   "metadata": {},
   "source": [
    "📝 Completed by **Shrikant Verma** 🚀\n",
    "#### Happy Learning :)"
   ]
  }
 ],
 "metadata": {
  "kernelspec": {
   "display_name": "Python 3 (ipykernel)",
   "language": "python",
   "name": "python3"
  },
  "language_info": {
   "codemirror_mode": {
    "name": "ipython",
    "version": 3
   },
   "file_extension": ".py",
   "mimetype": "text/x-python",
   "name": "python",
   "nbconvert_exporter": "python",
   "pygments_lexer": "ipython3",
   "version": "3.11.7"
  }
 },
 "nbformat": 4,
 "nbformat_minor": 5
}
